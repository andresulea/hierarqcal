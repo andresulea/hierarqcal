{
 "cells": [
  {
   "attachments": {},
   "cell_type": "markdown",
   "metadata": {},
   "source": [
    "This Jupyter Notebook is make by Andres Moreno , email: clases.ya10@gmail.com to Hierarqcal, led by Matt Lawrence. \n",
    "\n"
   ]
  },
  {
   "attachments": {},
   "cell_type": "markdown",
   "metadata": {},
   "source": [
    "The next work is focus on calculating the electronic ground state energy for the hydrogen ($\\text{H}_{2}$)"
   ]
  },
  {
   "attachments": {},
   "cell_type": "markdown",
   "metadata": {},
   "source": [
    "The next code only work in linux system, for the installation of the \"pip install pyscf\" necessary to extract some data for the molecule."
   ]
  },
  {
   "cell_type": "code",
   "execution_count": 1,
   "metadata": {},
   "outputs": [],
   "source": [
    "import numpy as np\n",
    "import matplotlib.pyplot as plt\n",
    "from qiskit.visualization import array_to_latex, plot_bloch_vector, plot_bloch_multivector, plot_state_qsphere, plot_state_city\n",
    "from qiskit import QuantumRegister, ClassicalRegister, QuantumCircuit, transpile\n",
    "from qiskit import execute, Aer\n",
    "import qiskit.quantum_info as qi\n",
    "from qiskit import Aer\n",
    "from qiskit_nature.drivers import UnitsType, Molecule\n",
    "from qiskit_nature.second_q.formats.molecule_info import MoleculeInfo\n",
    "from qiskit_nature.second_q.drivers import PySCFDriver\n",
    "from qiskit_nature.second_q.mappers import QubitConverter\n",
    "from qiskit_nature.second_q.mappers import ParityMapper, JordanWignerMapper, BravyiKitaevMapper\n",
    "from qiskit_nature import settings\n",
    "from qiskit.providers.aer import StatevectorSimulator\n",
    "from qiskit import Aer\n",
    "from qiskit.primitives import Sampler\n",
    "from qiskit.primitives import Estimator\n",
    "from qiskit.algorithms.optimizers import SLSQP, SPSA, QNSPSA\n",
    "from qiskit.algorithms.minimum_eigensolvers import NumPyMinimumEigensolver, VQE\n",
    "from qiskit_nature.second_q.algorithms.ground_state_solvers import GroundStateEigensolver\n",
    "from qiskit.circuit.library import TwoLocal\n",
    "from functools import partial as apply_variation\n",
    "from pyscf import gto, scf\n",
    "import pyqmc.api as pyq\n",
    "import h5py\n",
    "from ase import Atoms\n",
    "from ase.build import molecule\n",
    "from ase.visualize import view\n",
    "import scipy.stats as stats\n",
    "import time, datetime\n",
    "import pandas as pd\n",
    "import os.path\n",
    "from qiskit.circuit import Parameter\n",
    "from typing import List, NamedTuple\n",
    "\n",
    "\n",
    "from hierarqcal import (\n",
    "    Qhierarchy,\n",
    "    Qcycle,\n",
    "    Qpermute,\n",
    "    Qmask,\n",
    "    Qunmask,\n",
    "    Qinit,\n",
    "    Qmotif,\n",
    "    Qmotifs,\n",
    "    plot_motif,\n",
    "    Qunitary,\n",
    ")\n"
   ]
  },
  {
   "attachments": {},
   "cell_type": "markdown",
   "metadata": {},
   "source": [
    "## 1.Description of the VQE algorithm\n",
    "In a loop, a classical computer optimizes the parameters of a quantum circuit with respect to an objective function, such as finding the ground state of a molecule, which is the state with the lowest energy. The parameterized quantum circuit prepares a trial quantum state as a trial solution (an ansatz). By repeatedly measuring qubits at the output of the quantum circuit, we get the expectation value of the energy observable with respect to the trial state.\n",
    "\n",
    "\n",
    "The VQE algorithm provides an estimate of the ground state of a given quantum system encoded as a Hamiltonian $\\hat{H}$, the state of the system with the lowest energy $E_0$, for instance the ground state energy of a molecule. It involves an iterative minimization of the expectation value $E_{\\Psi(\\theta)}$ of the energy observable with respect to the trial state $|\\Psi(\\theta)\\rangle$:\n",
    "$$\n",
    "E_0 \\leq E_{\\Psi(\\theta)}=\\langle\\Psi(\\theta)|H|\\Psi(\\theta)\\rangle\n",
    "$$\n",
    "\n",
    "Pauli matrices, we can decompose the Hamiltonian $\\hat{H}$ into the weighted sum of $M$ tensor products $P_{k}=\\otimes_{j}^{N} \\sigma_{i, j}$ where $\\sigma_{i,j}∈\\{1,\\sigma_X,\\sigma_Y,\\sigma_Z\\}$ with weights $c_k$ and $N$ qubits:\n",
    "\n",
    "$$\n",
    "H=\\sum_{k=0}^{M-1} c_k P_k = \\sum_{k=0}^{M-1}c_k \\otimes_j^N σ_{k,j}\n",
    "$$\n",
    "\n",
    "Hence the expectation value of the energy observable $E_{\\Psi(\\theta)}$ can be rewritten as follows:\n",
    "\n",
    "$$E_{\\psi(\\theta)}=\\langle\\Psi(\\theta)|\\hat{H}| \\Psi(\\theta)\\rangle=\\sum_{k=0}^{M-1} c_{k}\\left\\langle\\Psi(\\theta)\\left|P_{k}\\right| \\Psi(\\theta)\\right\\rangle=\\sum_{k=0}^{M-1} c_{k}\\left\\langle\\Psi(\\theta)\\left|\\otimes_{j}^{N} \\sigma_{k, j}\\right| \\Psi(\\theta)\\right\\rangle$$\n",
    "\n",
    "We prepare a trial state $\\Psi(\\theta)$ with the set of parameters $\\theta=\\left(\\theta_{0}, \\theta_{1}, \\ldots, \\theta_{m}\\right)$ with a quantum circuit initialized in the state $|0\\rangle^{\\otimes N}$, and represented by $U(\\theta)$ which outputs the state $|\\Psi(\\theta)\\rangle=U(\\theta)|0\\rangle^{\\otimes N}$. \n",
    "\n",
    "By transpose complex conjugating,  $\\langle\\Psi|=\\left\\langle 0\\right|^{\\otimes N} U(\\theta)^{\\dagger}$, we can rewrite the expectation value of the energy observable $E_{\\Psi(\\theta)}$ as follows:\n",
    "\n",
    "$$E_{\\Psi(\\theta)}=\\left\\langle 0\\right|^{\\otimes N} U(\\theta)^{\\dagger} \\hat{H} U(\\theta)|0\\rangle^{\\otimes N}$$\n",
    "\n",
    "and then by taking the sum out to the front:\n",
    "\n",
    "$$E_{\\Psi(\\theta)}=\\sum_{k=0}^{M-1}\\left\\langle\\Psi(\\theta)\\left|P_{k}\\right| \\Psi(\\theta)\\right\\rangle=\\sum_{k=0}^{M-1} c_{k}\\left\\langle 0\\right|^{\\otimes N} U(\\theta)^{\\dagger} \\otimes_{j}^{N} \\sigma_{k, j} U(\\theta)|0\\rangle^{\\otimes N}$$\n",
    "\n",
    "For each $P_k$, we run the quantum circuit $U(\\theta)$ followed by rotations $R_{k} \\in\\left\\{\\mathbb{1}, R_{X}(-\\pi / 2), R_{Y}(\\pi / 2)\\right\\}$ depending on $P_k$ before measuring the qubits in the $Z$ basis so that we effectively measure the output state in the basis of the eigenvectors of $P_k$ to get the expectation value $\\left\\langle\\Psi(\\theta)\\left|P_{k}\\right| \\Psi(\\theta)\\right\\rangle$ with respect to the output state $|\\Psi(\\theta)\\rangle=U(\\theta)|0\\rangle^{\\otimes N}$.\n",
    "\n",
    "On a classical computer, we compute the weighted sum of the expectation values $\\left\\langle\\Psi(\\theta)\\left|P_{k}\\right| \\Psi(\\theta)\\right\\rangle$ with weights $c_k$ to get the expectation value $E_{\\Psi(\\theta)}$ with respect to the output state $\\Psi(\\theta)$.\n",
    "\n",
    "We update the set of parameters $θ$ using a classical optimization routine minimizing the expectation value $E_{\\Psi(\\theta)}$ until convergence in the value of the energy or the maximum allowable number of iterations is reached.\n",
    "\n",
    "The parameters at convergence define approximately the ground state $|\\Psi(\\theta_{min})\\rangle$ of a quantum system encoded into a Hamiltonian $H$ with the lowest energy $E_{\\min }=\\left\\langle\\Psi\\left(\\theta_{\\min }\\right)|H| \\Psi\\left(\\theta_{\\min }\\right)\\right\\rangle$.\n",
    "\n"
   ]
  },
  {
   "attachments": {},
   "cell_type": "markdown",
   "metadata": {},
   "source": [
    "###  Trial wavefunctions\n",
    "\n",
    "The coupled-cluster (CC) theory constructs a multi-electron wavefunction (Ψ) using the exponential cluster operator $\\widehat{T}=\\widehat{T}_{1}+\\widehat{T}_{2}+\\cdots \\widehat{T}_{n}$, where $\\widehat{T}_{1}$ is the operator for all single excitations, $\\widehat{T}_{1}$ is the operator for all double excitations, and so on. We start the VQE with the following unitary coupled cluster (UCC) ansatz of the quantum state $|\\Psi(\\theta)\\rangle$ with variational parameter $θ$ [Panagiotis] [Lolur]:\n",
    "\n",
    "$$|\\Psi(\\theta)\\rangle=e^{\\widehat{T}(\\theta)-\\widehat{T}^{\\dagger}(\\theta)}\\left|\\Psi_{r e f}\\right\\rangle$$\n",
    "\n",
    "where $\\left|\\Psi_{\\text {ref }}\\right\\rangle$ is the Hartree-Fock ground state. In the UCC method restricted to the extension to single and double excitations (UCCSD), the operators $\\widehat{T}_{1}$ and $\\widehat{T}_{2}$ can be expanded as follows:\n",
    "\n",
    "$$\\widehat{T}_{1}(\\theta)=\\sum_{i ; m} \\theta_{i}^{m} a_{m}^{\\dagger} a_{i}$$\n",
    "\n",
    "$$\\widehat{T}_{2}(\\theta)=\\frac{1}{2} \\sum_{i, j ; m, n} \\theta_{i, j}^{m, n} a_{n}^{\\dagger} a_{m}^{\\dagger} a_{j} a_{i}$$\n",
    "\n",
    "where:\n",
    "- $a_m^†$ is the fermionic creation operator , Fermion creation operator\n",
    "- $a_i$ is the fermionic annihilation operator , Fermion annihilation operator\n",
    "- $θ$ is the set of parameters for all expansion coefficients.\n",
    "\n",
    "The UCCSD ansatz of the quantum state $|\\Psi(\\theta)⟩$ is then mapped to qubit operators with the Jordan-Wigner (JW), the Parity or the Bravyi-Kitaev (BK) . Fermion to qubit mappings resulting in an initial qubit state vector for the VQE calculation.\n",
    "\n",
    "## 2.Setting-up the functions for the calculation\n",
    "We set a heuristic ansatz, using hierarqcal."
   ]
  },
  {
   "cell_type": "code",
   "execution_count": 2,
   "metadata": {},
   "outputs": [
    {
     "data": {
      "image/png": "[encoded data removed]",
      "text/plain": [
       "<Figure size 1374.44x367.889 with 1 Axes>"
      ]
     },
     "execution_count": 2,
     "metadata": {},
     "output_type": "execute_result"
    }
   ],
   "source": [
    "def U(bits, symbols=None, circuit=None, **kwargs):\n",
    "    # Assume bits are strings and in the correct QASM format\n",
    "    q0, q1, q2, q3 = QuantumRegister(1, bits[0]), QuantumRegister(1, bits[1]), QuantumRegister(1, bits[2]), QuantumRegister(1, bits[3])\n",
    "\n",
    "    circuit.u(symbols[0],symbols[1],0,q0)\n",
    "    circuit.u(symbols[2],symbols[3],0,q1)\n",
    "    circuit.u(symbols[4],symbols[5],0,q2)\n",
    "    circuit.u(symbols[6],symbols[7],0,q3)\n",
    "    circuit.cnot(q0, q1)\n",
    "    circuit.cnot(q1, q2)\n",
    "    circuit.cnot(q2, q3)\n",
    "    return circuit\n",
    "\n",
    "\n",
    "def U2(bits, symbols=None, circuit=None, **kwargs):\n",
    "    # Assume bits are strings and in the correct QASM format\n",
    "    q0, q1, q2, q3 = QuantumRegister(1, bits[0]), QuantumRegister(1, bits[1]), QuantumRegister(1, bits[2]), QuantumRegister(1, bits[3])\n",
    "\n",
    "    circuit.u(symbols[0],symbols[1],0,q3)\n",
    "    circuit.cnot(q2, q3)\n",
    "    circuit.cnot(q1, q2)\n",
    "    circuit.cnot(q0, q1)\n",
    "    circuit.u(symbols[2],symbols[3],0,q3)\n",
    "    circuit.u(symbols[4],symbols[5],0,q2)\n",
    "    circuit.u(symbols[6],symbols[7],0,q1)\n",
    "    circuit.u(symbols[8],symbols[9],0,q0)\n",
    "    return circuit\n",
    "\n",
    "\n",
    "u=Qunitary(U, arity=4, n_symbols=8)\n",
    "u2=Qunitary(U2, arity=4, n_symbols=10)\n",
    "hierq = Qinit(4) +Qcycle(1, 1, 0, mapping=u, boundary=\"open\")+ Qcycle(1, 1, 0, mapping=u2, boundary=\"open\")\n",
    "tl_circuit = hierq(backend=\"qiskit\")\n",
    "tl_circuit.draw(\"mpl\") "
   ]
  },
  {
   "attachments": {},
   "cell_type": "markdown",
   "metadata": {},
   "source": [
    "We use the fermion_to_qubit() function to constructing a qubit Hamiltonian with Qiskit Nature to convert a fermionic operator to a qubit operator. "
   ]
  },
  {
   "cell_type": "code",
   "execution_count": 3,
   "metadata": {},
   "outputs": [],
   "source": [
    "def fermion_to_qubit(problem, second_q_op, mapper_name, truncate=20, two_qubit_reduction=False, z2symmetry_reduction=None, show=True): \n",
    "  if show:\n",
    "    print(\"Qubit Hamiltonian operator\")\n",
    "    print(\"{} transformation \". format(mapper_name))\n",
    "  match mapper_name:\n",
    "    case \"Jordan-Wigner\":\n",
    "      mapper = JordanWignerMapper()\n",
    "    case \"Parity\":\n",
    "      mapper = ParityMapper(num_particles=problem.num_particles)\n",
    "    case \"Bravyi-Kitaev\":\n",
    "      mapper = BravyiKitaevMapper()\n",
    "  qubit_op = mapper.map(second_q_op)\n",
    "  if z2symmetry_reduction != None:\n",
    "    tapered_mapper = problem.get_tapered_mapper(mapper)\n",
    "    qubit_op = tapered_mapper.map(second_q_op)\n",
    "  n_items = len(qubit_op)\n",
    "  if show:\n",
    "    print(\"Number of items in the Pauli list:\", n_items)\n",
    "    if n_items <= truncate:\n",
    "      print(qubit_op)\n",
    "    else:\n",
    "      print(qubit_op[0:truncate])\n",
    "  return qubit_op, mapper"
   ]
  },
  {
   "attachments": {},
   "cell_type": "markdown",
   "metadata": {},
   "source": [
    "We use the get_particle_number() function, Constructing a fermionic Hamiltonian operator of the hydrogen molecule, which gets the particle number property of a given electronic structure problem ."
   ]
  },
  {
   "cell_type": "code",
   "execution_count": 4,
   "metadata": {},
   "outputs": [],
   "source": [
    "def get_particle_number(problem, show=True):\n",
    "  num_spin_orbitals = problem.num_spin_orbitals\n",
    "  num_particles = problem.num_particles\n",
    "  if show:\n",
    "    print(\"Number of particles: {}\".format(num_particles))\n",
    "    print(\"Number of spin orbitals: {}\".format(num_spin_orbitals))\n",
    "  return num_particles, num_spin_orbitals"
   ]
  },
  {
   "attachments": {},
   "cell_type": "markdown",
   "metadata": {},
   "source": [
    "Qiskit Nature provides a class called GroundStateEigensolver to calculate the ground state of a molecule. We define the run_vqe() function for these process."
   ]
  },
  {
   "cell_type": "code",
   "execution_count": 5,
   "metadata": {},
   "outputs": [],
   "source": [
    "def run_vqe(name, problem, qubit_converter, solver, show=True):\n",
    "  calc = GroundStateEigensolver(qubit_converter, solver)\n",
    "  start = time.time()\n",
    "  ground_state = calc.solve(problem)\n",
    "  elapsed = str(datetime.timedelta(seconds = time.time()-start))\n",
    "  if show:\n",
    "    print(\"Running the VQE using the {}\".format(name))\n",
    "    print(\"Elapsed time: {} \\n\".format(elapsed))\n",
    "    print(ground_state)\n",
    "  return ground_state"
   ]
  },
  {
   "attachments": {},
   "cell_type": "markdown",
   "metadata": {},
   "source": [
    "We define the plot_loss() function"
   ]
  },
  {
   "cell_type": "code",
   "execution_count": 6,
   "metadata": {},
   "outputs": [],
   "source": [
    "def plot_loss(loss, label, target,problem):\n",
    "  plt.figure(figsize=(12, 6))\n",
    "  plt.plot(loss, 'tab:green', ls='--', label=label)\n",
    "  plt.axhline(target, c='tab:red', ls='--', label='target')\n",
    "  plt.ylabel('loss (hartree)')\n",
    "  plt.xlabel('iterations')\n",
    "  plt.legend()"
   ]
  },
  {
   "attachments": {},
   "cell_type": "markdown",
   "metadata": {},
   "source": [
    "We now define the solve_ground_state() function, which solves for a ground state."
   ]
  },
  {
   "cell_type": "code",
   "execution_count": 7,
   "metadata": {},
   "outputs": [],
   "source": [
    "def solve_ground_state(\n",
    "    info_dict,\n",
    "    mapper_name=\"Jordan-Wigner\",\n",
    "    num_electrons=None,\n",
    "    num_spatial_orbitals=None,\n",
    "    freeze_core=None, \n",
    "    two_qubit_reduction=False,\n",
    "    z2symmetry_reduction = \"Auto\",\n",
    "    name_solver='NumPy exact solver',\n",
    "    solver=NumPyMinimumEigensolver(),\n",
    "    plot_bopes=False,\n",
    "    perturbation_steps=np.linspace(-1, 1, 3),\n",
    "    pyqmc=True,\n",
    "    n_ancillae=3, \n",
    "    num_time_slices=1,\n",
    "    loss=[],\n",
    "    label=None,\n",
    "    target=None,\n",
    "    show=True\n",
    "):\n",
    "    \n",
    "    atoms = info_dict['atoms']\n",
    "    coords = info_dict['coords']\n",
    "    charge = info_dict['charge']\n",
    "    multiplicity = info_dict['multiplicity']\n",
    "    atom_pair = info_dict['atom_pair']\n",
    "    moleculeinfo = MoleculeInfo(atoms, coords, charge=charge, multiplicity=multiplicity)\n",
    "    driver = PySCFDriver.from_molecule(moleculeinfo, basis=\"sto3g\")\n",
    "    problem = driver.run()\n",
    "    fermionic_hamiltonian = problem.hamiltonian\n",
    "    second_q_op = fermionic_hamiltonian.second_q_op()\n",
    "  \n",
    "    if show:\n",
    "      print(\"Fermionic Hamiltonian operator\")\n",
    "      print(\"\\n\".join(str(second_q_op).splitlines()[:20] + [\"...\"]))\n",
    "    num_particles, num_spin_orbitals = get_particle_number(problem, show=show)\n",
    "    if show:\n",
    "      print(\" \")\n",
    "    qubit_op, mapper = fermion_to_qubit(problem, second_q_op, mapper_name, two_qubit_reduction=two_qubit_reduction, z2symmetry_reduction=z2symmetry_reduction, show=show)\n",
    "    \n",
    "    if show:\n",
    "      print(\" \")\n",
    "    \n",
    "    ground_state = run_vqe(name_solver, problem, mapper, solver, show=show)\n",
    "\n",
    "    plot_loss(loss, label, target,problem)  \n",
    "    return fermionic_hamiltonian, num_particles, num_spin_orbitals, qubit_op, mapper, ground_state "
   ]
  },
  {
   "attachments": {},
   "cell_type": "markdown",
   "metadata": {},
   "source": [
    "## 3. Setting-up hydrogen molecule\n",
    "\n",
    "We define the molecular geometry of the hydrogen molecule as follows:"
   ]
  },
  {
   "cell_type": "code",
   "execution_count": 8,
   "metadata": {},
   "outputs": [],
   "source": [
    "H2_atoms = [\"H\", \"H\"]\n",
    "H2_coords = [(0.0, 0.0, 0.0), (0.0, 0.0, 0.735)]\n",
    "H2_charge = 0\n",
    "H2_multiplicity = 1\n",
    "H2_atom_pair=(1, 0)\n",
    "H2_info_dict={'atoms':H2_atoms, 'coords':H2_coords, 'charge':H2_charge, 'multiplicity':H2_multiplicity, 'atom_pair':H2_atom_pair}"
   ]
  },
  {
   "attachments": {},
   "cell_type": "markdown",
   "metadata": {},
   "source": [
    "We set up the VQE using a heuristic ansatz."
   ]
  },
  {
   "cell_type": "code",
   "execution_count": 9,
   "metadata": {},
   "outputs": [],
   "source": [
    "estimator = Estimator()\n",
    "optimizer = SPSA(maxiter=200)\n",
    "vqe_tl_solver = VQE(estimator, tl_circuit, optimizer)\n"
   ]
  },
  {
   "attachments": {},
   "cell_type": "markdown",
   "metadata": {},
   "source": [
    "We set up a call back function qnspsa_callback() for the Quantum Natural SPSA (QN-SPSA) optimizer which appends results to the loss array qnspsa_loss."
   ]
  },
  {
   "cell_type": "code",
   "execution_count": 10,
   "metadata": {},
   "outputs": [],
   "source": [
    "qnspsa_loss = []\n",
    "def qnspsa_callback(nfev, x, fx, stepsize, accepted):\n",
    "    qnspsa_loss.append(fx)"
   ]
  },
  {
   "attachments": {},
   "cell_type": "markdown",
   "metadata": {},
   "source": [
    "Here is the code which sets up the VQE using a heuristic ansatz and the Quantum Natural SPSA (QN-SPSA) optimizer:"
   ]
  },
  {
   "cell_type": "code",
   "execution_count": 11,
   "metadata": {},
   "outputs": [],
   "source": [
    "\n",
    "ansatz = tl_circuit\n",
    "fidelity = QNSPSA.get_fidelity(ansatz, sampler=Sampler())\n",
    "qnspsa = QNSPSA(fidelity, maxiter=400, learning_rate=0.01, perturbation=0.3, callback=qnspsa_callback)\n",
    "vqe_tl_QNSPSA_solver = VQE(estimator, tl_circuit, optimizer=qnspsa)"
   ]
  },
  {
   "attachments": {},
   "cell_type": "markdown",
   "metadata": {},
   "source": [
    "Now we call solve_ground_state() with the heuristic ansatz and the QN-SPSA optimizer. Figure shows the plot of the loss function of the QN-SPSA optimizer. The hamiltonian of the molecule is mapped to qubit operator with the Jordan-Wigner. The electronic ground state reported in literature is -1.857274810366 Hartree."
   ]
  },
  {
   "cell_type": "code",
   "execution_count": 12,
   "metadata": {},
   "outputs": [
    {
     "name": "stdout",
     "output_type": "stream",
     "text": [
      "Fermionic Hamiltonian operator\n",
      "Fermionic Operator\n",
      "number spin orbitals=4, number terms=36\n",
      "  -1.25633907300325 * ( +_0 -_0 )\n",
      "+ -0.47189600728114184 * ( +_1 -_1 )\n",
      "+ -1.25633907300325 * ( +_2 -_2 )\n",
      "+ -0.47189600728114184 * ( +_3 -_3 )\n",
      "+ 0.33785507740175813 * ( +_0 +_0 -_0 -_0 )\n",
      "+ 0.09046559989211568 * ( +_0 +_0 -_1 -_1 )\n",
      "+ 0.09046559989211564 * ( +_0 +_1 -_0 -_1 )\n",
      "+ 0.33229086512764827 * ( +_0 +_1 -_1 -_0 )\n",
      "+ 0.33785507740175813 * ( +_0 +_2 -_2 -_0 )\n",
      "+ 0.09046559989211568 * ( +_0 +_2 -_3 -_1 )\n",
      "+ 0.09046559989211564 * ( +_0 +_3 -_2 -_1 )\n",
      "+ 0.33229086512764827 * ( +_0 +_3 -_3 -_0 )\n",
      "+ 0.3322908651276482 * ( +_1 +_0 -_0 -_1 )\n",
      "+ 0.09046559989211574 * ( +_1 +_0 -_1 -_0 )\n",
      "+ 0.09046559989211565 * ( +_1 +_1 -_0 -_0 )\n",
      "+ 0.3492868613660089 * ( +_1 +_1 -_1 -_1 )\n",
      "+ 0.3322908651276482 * ( +_1 +_2 -_2 -_1 )\n",
      "+ 0.09046559989211574 * ( +_1 +_2 -_3 -_0 )\n",
      "...\n",
      "Number of particles: (1, 1)\n",
      "Number of spin orbitals: 4\n",
      " \n",
      "Qubit Hamiltonian operator\n",
      "Jordan-Wigner transformation \n",
      "Number of items in the Pauli list: 15\n",
      "-0.8105479805373275 * IIII\n",
      "+ 0.1721839326191556 * IIIZ\n",
      "- 0.2257534922240239 * IIZI\n",
      "+ 0.17218393261915554 * IZII\n",
      "- 0.2257534922240239 * ZIII\n",
      "+ 0.12091263261776629 * IIZZ\n",
      "+ 0.16892753870087907 * IZIZ\n",
      "+ 0.04523279994605784 * YYYY\n",
      "+ 0.04523279994605784 * XXYY\n",
      "+ 0.04523279994605784 * YYXX\n",
      "+ 0.04523279994605784 * XXXX\n",
      "+ 0.16614543256382414 * ZIIZ\n",
      "+ 0.16614543256382414 * IZZI\n",
      "+ 0.17464343068300445 * ZIZI\n",
      "+ 0.12091263261776629 * ZZII\n",
      " \n"
     ]
    },
    {
     "name": "stderr",
     "output_type": "stream",
     "text": [
      "/home/veroni/.local/lib/python3.11/site-packages/qiskit_nature/deprecation.py:297: PauliSumOpDeprecationWarning: PauliSumOp is deprecated as of version 0.6.0 and support for them will be removed no sooner than 3 months after the release. Instead, use SparsePauliOp. You can switch to SparsePauliOp immediately, by setting `qiskit_nature.settings.use_pauli_sum_op` to `False`.\n",
      "  return func(*args, **kwargs)\n"
     ]
    },
    {
     "name": "stdout",
     "output_type": "stream",
     "text": [
      "Running the VQE using the Two-Local circuit and the QN-SPSA optimizer\n",
      "Elapsed time: 0:00:36.394382 \n",
      "\n",
      "=== GROUND STATE ENERGY ===\n",
      " \n",
      "* Electronic ground state energy (Hartree): -1.836797561017\n",
      "  - computed part:      -1.836797561017\n",
      "~ Nuclear repulsion energy (Hartree): 0.719968994449\n",
      "> Total ground state energy (Hartree): -1.116828566568\n",
      " \n",
      "=== MEASURED OBSERVABLES ===\n",
      " \n",
      "  0:  # Particles: 2.000 S: 0.000 S^2: 0.000 M: -0.000\n",
      " \n",
      "=== DIPOLE MOMENTS ===\n",
      " \n",
      "~ Nuclear dipole moment (a.u.): [0.0  0.0  1.3889487]\n",
      " \n",
      "  0: \n",
      "  * Electronic dipole moment (a.u.): [0.0  0.0  1.390457253003]\n",
      "    - computed part:      [0.0  0.0  1.390457253003]\n",
      "  > Dipole moment (a.u.): [0.0  0.0  -0.001508553003]  Total: 0.001508553003\n",
      "                 (debye): [0.0  0.0  -0.003834358909]  Total: 0.003834358909\n",
      " \n"
     ]
    },
    {
     "data": {
      "image/png": "[encoded data removed]",
      "text/plain": [
       "<Figure size 1200x600 with 1 Axes>"
      ]
     },
     "metadata": {},
     "output_type": "display_data"
    }
   ],
   "source": [
    "H2_fermionic_hamiltonian, H2_num_particles, H2_num_spin_orbitals, H2_qubit_op, H2_qubit_converter, H2_ground_state = \\\n",
    "                  solve_ground_state(H2_info_dict, mapper_name=\"Jordan-Wigner\", two_qubit_reduction=True, z2symmetry_reduction=None,\n",
    "                  loss=qnspsa_loss, label='QN-SPSA', target=-1.857274810366,\n",
    "                  name_solver='Two-Local circuit and the QN-SPSA optimizer', solver=vqe_tl_QNSPSA_solver )"
   ]
  }
 ],
 "metadata": {
  "kernelspec": {
   "display_name": "Python 3",
   "language": "python",
   "name": "python3"
  },
  "language_info": {
   "codemirror_mode": {
    "name": "ipython",
    "version": 3
   },
   "file_extension": ".py",
   "mimetype": "text/x-python",
   "name": "python",
   "nbconvert_exporter": "python",
   "pygments_lexer": "ipython3",
   "version": "3.11.3"
  },
  "orig_nbformat": 4
 },
 "nbformat": 4,
 "nbformat_minor": 2
}
